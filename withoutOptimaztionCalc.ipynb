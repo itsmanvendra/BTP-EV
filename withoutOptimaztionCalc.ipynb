{
 "cells": [
  {
   "cell_type": "code",
   "execution_count": 1454,
   "metadata": {},
   "outputs": [],
   "source": [
    "import math\n",
    "import random\n",
    "import sys\n",
    "from math import ceil, floor\n",
    "import numpy as np\n",
    "import pandas as pd\n",
    "\n",
    "swapTime = 600      #seconds per vehicle\n",
    "GridX = 10000       #meters\n",
    "GridY = 10000       #meters\n",
    "intervalOfChargingStations = 2000       #meters\n",
    "noOfRequests = 100     #per hour\n",
    "numberOfChargingStations = GridX*GridY//intervalOfChargingStations**2\n",
    "int_min_speed=20    #kmph\n",
    "int_max_speed=40    #kmph\n",
    "high_min_speed=60   #kmph\n",
    "high_max_speed=80   #kmph\n",
    "startTime = 0\n",
    "\n",
    "################################################################################################################\n",
    "\n",
    "ChargingStationCode = []\n",
    "CSx = []\n",
    "CSy = []\n",
    "occupancyTime=[]\n",
    "averageActulTime=[]\n",
    "noOfCars=[]\n",
    "\n",
    "randomTime=[]\n",
    "randomX=[]\n",
    "randomY=[]\n",
    "allocatedCS=[]\n",
    "arrivalTime=[]\n"
   ]
  },
  {
   "cell_type": "code",
   "execution_count": 1455,
   "metadata": {},
   "outputs": [],
   "source": [
    "def makeStations(GridX,GridY,intervalOfChargingStations):\n",
    "    for i in range(0,GridX,intervalOfChargingStations):\n",
    "        for j in range(0,GridY,intervalOfChargingStations):\n",
    "            name = \"CS\"+str(i//1000)+str(j//1000)\n",
    "            ChargingStationCode.append(name)\n",
    "            CSx.append(i)\n",
    "            CSy.append(j)\n",
    "            occupancyTime.append(0)\n",
    "            averageActulTime.append(0)\n",
    "            noOfCars.append(0)"
   ]
  },
  {
   "cell_type": "code",
   "execution_count": 1456,
   "metadata": {},
   "outputs": [],
   "source": [
    "def generateRequest(startTime,GridX, GridY,noOfRequests):\n",
    "    for i in range(noOfRequests):\n",
    "        randomTime.append(random.randint(startTime,3600+startTime))\n",
    "        randomX.append(random.randint(0,GridX-1000))\n",
    "        randomY.append(random.randint(0,GridY-1000))\n",
    "        allocatedCS.append(0)\n",
    "        arrivalTime.append(0)\n",
    "    randomTime.sort()"
   ]
  },
  {
   "cell_type": "code",
   "execution_count": 1457,
   "metadata": {},
   "outputs": [],
   "source": [
    "def distanceBetweenAB(A,B):\n",
    "    hor_dis=abs(A[0]-B[0])\n",
    "    ver_dis=abs(A[1]-B[1])\n",
    "    return hor_dis + ver_dis"
   ]
  },
  {
   "cell_type": "code",
   "execution_count": 1458,
   "metadata": {},
   "outputs": [],
   "source": [
    "def findNearestHighway(A,B):\n",
    "    A1 = []\n",
    "    x1 = A[0]\n",
    "    y1 = A[1]\n",
    "    x2 = B[0]\n",
    "    y2 = B[1]\n",
    "    if x2>x1:\n",
    "        vert_highway=ceil(x1/1000)*1000\n",
    "    else:\n",
    "        vert_highway=floor(x1/1000)*1000\n",
    "    if y2>y1:\n",
    "        horiz_highway=ceil(y1/1000)*1000\n",
    "    else:\n",
    "        horiz_highway=floor(y1/1000)*1000\n",
    "    horHigPointA=[x1,horiz_highway]\n",
    "    verHigPointA=[vert_highway,y1]\n",
    "\n",
    "    #for A\n",
    "    if distanceBetweenAB(A,horHigPointA) < distanceBetweenAB(A,verHigPointA):\n",
    "        A1.append(x1)\n",
    "        A1.append(horiz_highway)\n",
    "    else:\n",
    "        A1.append(vert_highway)\n",
    "        A1.append(y1)\n",
    "    return A1"
   ]
  },
  {
   "cell_type": "code",
   "execution_count": 1459,
   "metadata": {},
   "outputs": [],
   "source": [
    "def occupancyTimeRemaining(array):\n",
    "    for i in range(len(array)):\n",
    "        if(array[i]>3600):\n",
    "            array[i] = array[i]-3600\n",
    "        else:\n",
    "            array[i] = 0"
   ]
  },
  {
   "cell_type": "code",
   "execution_count": 1460,
   "metadata": {},
   "outputs": [],
   "source": [
    "def timeToTravel(A,B):\n",
    "    Nearest_Highway_pointA = findNearestHighway(A,B)[:]\n",
    "    high_distance = distanceBetweenAB(Nearest_Highway_pointA,B)\n",
    "    int_distanceA = distanceBetweenAB(A,Nearest_Highway_pointA)\n",
    "    highway_speed = (random.randint(high_min_speed,high_max_speed)*5)/18\n",
    "    interior_speed = (random.randint(int_min_speed,int_max_speed)*5)/18\n",
    "    high_time = high_distance/highway_speed\n",
    "    inter_time = int_distanceA/interior_speed\n",
    "    travel_time = high_time + inter_time\n",
    "    travel_time  = round(travel_time,2)\n",
    "    return travel_time"
   ]
  },
  {
   "cell_type": "code",
   "execution_count": 1461,
   "metadata": {},
   "outputs": [],
   "source": [
    "makeStations(GridX, GridY, intervalOfChargingStations)\n"
   ]
  },
  {
   "cell_type": "code",
   "execution_count": 1462,
   "metadata": {},
   "outputs": [],
   "source": [
    "# generateRequest(startTime, GridX, GridY, noOfRequests)"
   ]
  },
  {
   "cell_type": "code",
   "execution_count": 1463,
   "metadata": {},
   "outputs": [],
   "source": [
    "def waitingTime(rax, tmp, x, allotcs):\n",
    "    ans = 0\n",
    "    if(x < rax+tmp):\n",
    "        ans = 0\n",
    "        occupancyTime[allotcs] += 600\n",
    "    else:\n",
    "        ans = x-rax-tmp\n",
    "        occupancyTime[allotcs] += 600\n",
    "    return ans"
   ]
  },
  {
   "cell_type": "code",
   "execution_count": 1464,
   "metadata": {},
   "outputs": [],
   "source": [
    "# for i in range(noOfRequests):\n",
    "#     X = [randomX[i], randomY[i]]\n",
    "#     tmp = sys.maxsize\n",
    "#     allotcs = 0\n",
    "    \n",
    "#     for j in range(numberOfChargingStations):\n",
    "#         Y = [CSx[j], CSy[j]]\n",
    "#         dist = timeToTravel(X, Y)\n",
    "#         if(dist<tmp):\n",
    "#             tmp = dist\n",
    "#             allotcs = j\n",
    "#     wait = waitingTime(randomTime[i], tmp, occupancyTime[allotcs], allotcs)\n",
    "#     # print(wait)\n",
    "#     averageActulTime[allotcs] += wait\n",
    "#     noOfCars[allotcs] += 1\n",
    "\n",
    "\n"
   ]
  },
  {
   "cell_type": "code",
   "execution_count": 1465,
   "metadata": {},
   "outputs": [],
   "source": [
    "# for j in range(numberOfChargingStations):\n",
    "#     if(noOfCars[j] != 0):\n",
    "#         averageActulTime[j] = averageActulTime[j]/noOfCars[j]\n",
    "#         # print(averageActulTime[j])\n",
    "#     else:\n",
    "#         averageActulTime[j] = 0\n",
    "        "
   ]
  },
  {
   "cell_type": "code",
   "execution_count": 1466,
   "metadata": {},
   "outputs": [],
   "source": [
    "def makeZero(array):\n",
    "    for i in range(len(array)):\n",
    "        array[i]=0\n"
   ]
  },
  {
   "cell_type": "code",
   "execution_count": 1467,
   "metadata": {},
   "outputs": [],
   "source": [
    "def occupancyTimeremaining(array):\n",
    "    for i in range(len(array)):\n",
    "        if(array[i]>3600):\n",
    "            array[i] = array[i]-3600\n",
    "        else:\n",
    "            array[i] = 0\n",
    "    "
   ]
  },
  {
   "cell_type": "code",
   "execution_count": 1468,
   "metadata": {},
   "outputs": [],
   "source": [
    "def restart():\n",
    "    global randomTime \n",
    "    randomTime=[]\n",
    "    global randomX\n",
    "    randomX=[]\n",
    "    global randomY\n",
    "    randomY=[]\n",
    "    global allocatedCS\n",
    "    allocatedCS=[]\n",
    "    global arrivalTime\n",
    "    arrivalTime=[]\n"
   ]
  },
  {
   "cell_type": "code",
   "execution_count": 1469,
   "metadata": {},
   "outputs": [],
   "source": [
    "# print(averageActulTime)"
   ]
  },
  {
   "cell_type": "code",
   "execution_count": 1470,
   "metadata": {},
   "outputs": [],
   "source": [
    "def delta(n):\n",
    "    return n//10"
   ]
  },
  {
   "cell_type": "code",
   "execution_count": 1471,
   "metadata": {},
   "outputs": [],
   "source": [
    "df2 = pd.DataFrame({'ChargingStationCode':ChargingStationCode})\n",
    "df2.to_csv('datasetWithoutOptimaztion.csv', index=False)\n",
    "df2 = pd.read_csv('datasetWithoutOptimaztion.csv')"
   ]
  },
  {
   "cell_type": "code",
   "execution_count": 1472,
   "metadata": {},
   "outputs": [],
   "source": [
    "def vehicleDensity(time):\n",
    "    if time >= 0 and time < 6:\n",
    "        return noOfRequests - 2 * delta(noOfRequests)\n",
    "    elif time >= 6 and time < 8:\n",
    "        return noOfRequests - delta(noOfRequests)\n",
    "    elif time >= 8 and time < 11:\n",
    "        return noOfRequests + delta(noOfRequests)\n",
    "    elif time >=11 and time < 13:\n",
    "        return noOfRequests\n",
    "    elif time >=13 and time < 16:\n",
    "        return noOfRequests - delta(noOfRequests)\n",
    "    elif time >=16 and time < 18:\n",
    "        return noOfRequests\n",
    "    elif time >=18 and time < 21:\n",
    "        return noOfRequests + delta(noOfRequests)\n",
    "    else:\n",
    "        return noOfRequests - delta(noOfRequests)\n"
   ]
  },
  {
   "cell_type": "code",
   "execution_count": 1473,
   "metadata": {},
   "outputs": [],
   "source": [
    "df = pd.read_csv('randomData.csv')"
   ]
  },
  {
   "cell_type": "code",
   "execution_count": 1474,
   "metadata": {},
   "outputs": [],
   "source": [
    "for x in range(24):\n",
    "    restart()\n",
    "    # print(occupancyTime)\n",
    "    generateRequest(startTime,GridX, GridY , noOfRequests)\n",
    "    for i in range(noOfRequests):\n",
    "        X = [randomX[i], randomY[i]]\n",
    "        tmp = sys.maxsize\n",
    "        allotcs = 0\n",
    "        for j in range(numberOfChargingStations):\n",
    "            Y = [CSx[j], CSy[j]]\n",
    "            dist = timeToTravel(X, Y)\n",
    "            if(dist<tmp):\n",
    "                tmp = dist\n",
    "                allotcs = j\n",
    "        # print(occupancyTime[allotcs])\n",
    "        wait = waitingTime(randomTime[i], tmp, occupancyTime[allotcs], allotcs)\n",
    "       \n",
    "       \n",
    "        # print(wait\n",
    "        # print(occupancyTime[allotcs],randomTime[i])\n",
    "\n",
    "        \n",
    "        averageActulTime[allotcs] += wait\n",
    "        noOfCars[allotcs] += 1\n",
    "    for j in range(numberOfChargingStations):\n",
    "        if(noOfCars[j] != 0):\n",
    "            averageActulTime[j] = averageActulTime[j]/noOfCars[j]\n",
    "            # print(averageActulTime[j])\n",
    "        else:\n",
    "            averageActulTime[j] = 0\n",
    "    z = 'Av'+str(x)\n",
    "    # gg = 'No'+str(x)\n",
    "    df2.insert(x+1, z, averageActulTime)\n",
    "    # df2.insert(2*x+2, gg, noOfCars)\n",
    "    makeZero(noOfCars)\n",
    "    makeZero(averageActulTime)\n",
    "    occupancyTimeRemaining(occupancyTime)\n",
    "    df2.to_csv('datasetWithoutOptimization.csv', index=False)\n",
    "    \n",
    "    "
   ]
  }
 ],
 "metadata": {
  "kernelspec": {
   "display_name": "Python 3.10.4 64-bit",
   "language": "python",
   "name": "python3"
  },
  "language_info": {
   "codemirror_mode": {
    "name": "ipython",
    "version": 3
   },
   "file_extension": ".py",
   "mimetype": "text/x-python",
   "name": "python",
   "nbconvert_exporter": "python",
   "pygments_lexer": "ipython3",
   "version": "3.10.4"
  },
  "orig_nbformat": 4,
  "vscode": {
   "interpreter": {
    "hash": "1bac1f31f9f17b42c6ed85390b47cf6bd072f713dfc62feae2f5858eee546f57"
   }
  }
 },
 "nbformat": 4,
 "nbformat_minor": 2
}
