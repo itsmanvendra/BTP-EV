{
 "cells": [
  {
   "cell_type": "code",
   "execution_count": 342,
   "metadata": {},
   "outputs": [],
   "source": [
    "import math\n",
    "import random\n",
    "import sys\n",
    "from math import ceil, floor\n",
    "import numpy as np\n",
    "import pandas as pd\n",
    "\n",
    "swapTime = 600      #seconds per vehicle\n",
    "GridX = 10000       #meters\n",
    "GridY = 10000       #meters\n",
    "intervalOfChargingStations = 2000       #meters\n",
    "noOfRequests = 150     #per hour\n",
    "numberOfChargingStations = GridX*GridY//intervalOfChargingStations**2\n",
    "int_min_speed=20    #kmph\n",
    "int_max_speed=40    #kmph\n",
    "high_min_speed=60   #kmph\n",
    "high_max_speed=80   #kmph\n",
    "startTime = 0\n",
    "\n",
    "################################################################################################################\n",
    "\n",
    "ChargingStationCode = []\n",
    "CSx = []\n",
    "CSy = []\n",
    "occupancyTime=[]\n",
    "averageActulTime=[]\n",
    "noOfCars=[]\n",
    "\n",
    "randomTime=[]\n",
    "randomX=[]\n",
    "randomY=[]\n",
    "allocatedCS=[]\n",
    "arrivalTime=[]\n",
    "allotCS = 0\n",
    "ans = []\n",
    "aans = []\n",
    "waitans = []\n"
   ]
  },
  {
   "cell_type": "code",
   "execution_count": 343,
   "metadata": {},
   "outputs": [],
   "source": [
    "def makeStations(GridX,GridY,intervalOfChargingStations):\n",
    "    for i in range(0,GridX,intervalOfChargingStations):\n",
    "        for j in range(0,GridY,intervalOfChargingStations):\n",
    "            name = \"CS\"+str(i//1000)+str(j//1000)\n",
    "            ChargingStationCode.append(name)\n",
    "            CSx.append(i)\n",
    "            CSy.append(j)\n",
    "            occupancyTime.append(0)\n",
    "            averageActulTime.append(0)\n",
    "            noOfCars.append(0)"
   ]
  },
  {
   "cell_type": "code",
   "execution_count": 344,
   "metadata": {},
   "outputs": [],
   "source": [
    "def distanceBetweenAB(A,B):\n",
    "    hor_dis=abs(A[0]-B[0])\n",
    "    ver_dis=abs(A[1]-B[1])\n",
    "    return hor_dis + ver_dis"
   ]
  },
  {
   "cell_type": "code",
   "execution_count": 345,
   "metadata": {},
   "outputs": [],
   "source": [
    "def findNearestHighway(A,B):\n",
    "    A1 = []\n",
    "    x1 = A[0]\n",
    "    y1 = A[1]\n",
    "    x2 = B[0]\n",
    "    y2 = B[1]\n",
    "    if x2>x1:\n",
    "        vert_highway=ceil(x1/1000)*1000\n",
    "    else:\n",
    "        vert_highway=floor(x1/1000)*1000\n",
    "    if y2>y1:\n",
    "        horiz_highway=ceil(y1/1000)*1000\n",
    "    else:\n",
    "        horiz_highway=floor(y1/1000)*1000\n",
    "    horHigPointA=[x1,horiz_highway]\n",
    "    verHigPointA=[vert_highway,y1]\n",
    "\n",
    "    #for A\n",
    "    if distanceBetweenAB(A,horHigPointA) < distanceBetweenAB(A,verHigPointA):\n",
    "        A1.append(x1)\n",
    "        A1.append(horiz_highway)\n",
    "    else:\n",
    "        A1.append(vert_highway)\n",
    "        A1.append(y1)\n",
    "    return A1"
   ]
  },
  {
   "cell_type": "code",
   "execution_count": 346,
   "metadata": {},
   "outputs": [],
   "source": [
    "def timeToTravel(A,B):\n",
    "    Nearest_Highway_pointA = findNearestHighway(A,B)[:]\n",
    "    high_distance = distanceBetweenAB(Nearest_Highway_pointA,B)\n",
    "    int_distanceA = distanceBetweenAB(A,Nearest_Highway_pointA)\n",
    "    highway_speed = (random.randint(high_min_speed,high_max_speed)*5)/18\n",
    "    interior_speed = (random.randint(int_min_speed,int_max_speed)*5)/18\n",
    "    high_time = high_distance/highway_speed\n",
    "    inter_time = int_distanceA/interior_speed\n",
    "    travel_time = high_time + inter_time\n",
    "    travel_time  = round(travel_time,2)\n",
    "    return travel_time"
   ]
  },
  {
   "cell_type": "code",
   "execution_count": 347,
   "metadata": {},
   "outputs": [],
   "source": [
    "makeStations(GridX, GridY, intervalOfChargingStations)\n"
   ]
  },
  {
   "cell_type": "code",
   "execution_count": 348,
   "metadata": {},
   "outputs": [],
   "source": [
    "def waitingTime(rax, tmp, x, allotcs):\n",
    "    ans = 0\n",
    "    if(x < rax+tmp):\n",
    "        ans = 0\n",
    "        occupancyTime[allotcs] += 600\n",
    "    else:\n",
    "        ans = x-rax-tmp\n",
    "        occupancyTime[allotcs] += 600\n",
    "    return ans"
   ]
  },
  {
   "cell_type": "code",
   "execution_count": 349,
   "metadata": {},
   "outputs": [],
   "source": [
    "def makeZero(array):\n",
    "    for i in range(len(array)):\n",
    "        array[i]=0\n"
   ]
  },
  {
   "cell_type": "code",
   "execution_count": 350,
   "metadata": {},
   "outputs": [],
   "source": [
    "def occupancyTimeRemaining(array):\n",
    "    for i in range(len(array)):\n",
    "        if(array[i]>3600):\n",
    "            array[i] = array[i]-3600\n",
    "        else:\n",
    "            array[i] = 0"
   ]
  },
  {
   "cell_type": "code",
   "execution_count": 351,
   "metadata": {},
   "outputs": [],
   "source": [
    "def restart():\n",
    "    global randomTime \n",
    "    randomTime=[]\n",
    "    global randomX\n",
    "    randomX=[]\n",
    "    global randomY\n",
    "    randomY=[]\n",
    "    global allocatedCS\n",
    "    allocatedCS=[]\n",
    "    global arrivalTime\n",
    "    arrivalTime=[]\n"
   ]
  },
  {
   "cell_type": "code",
   "execution_count": 352,
   "metadata": {},
   "outputs": [],
   "source": [
    "def delta(n):\n",
    "    return n//10"
   ]
  },
  {
   "cell_type": "code",
   "execution_count": 353,
   "metadata": {},
   "outputs": [],
   "source": [
    "\n",
    "def vehicleDensity(time):\n",
    "    if time >= 0 and time < 6:\n",
    "        return noOfRequests - 2 * delta(noOfRequests)\n",
    "    elif time >= 6 and time < 8:\n",
    "        return noOfRequests - delta(noOfRequests)\n",
    "    elif time >= 8 and time < 11:\n",
    "        return noOfRequests + delta(noOfRequests)\n",
    "    elif time >=11 and time < 13:\n",
    "        return noOfRequests\n",
    "    elif time >=13 and time < 16:\n",
    "        return noOfRequests - delta(noOfRequests)\n",
    "    elif time >=16 and time < 18:\n",
    "        return noOfRequests\n",
    "    elif time >=18 and time < 21:\n",
    "        return noOfRequests + delta(noOfRequests)\n",
    "    else:\n",
    "        return noOfRequests - delta(noOfRequests)\n"
   ]
  },
  {
   "cell_type": "code",
   "execution_count": 354,
   "metadata": {},
   "outputs": [],
   "source": [
    "df = pd.read_csv('randomData.csv')"
   ]
  },
  {
   "cell_type": "code",
   "execution_count": 355,
   "metadata": {},
   "outputs": [],
   "source": [
    "sams = []\n",
    "distancewise = []\n",
    "waitingwise = []\n",
    "# finalans = []"
   ]
  },
  {
   "cell_type": "code",
   "execution_count": 356,
   "metadata": {},
   "outputs": [],
   "source": [
    "def solveRequest(requests):\n",
    "    for i in range(requests):\n",
    "        X = [randomX[i], randomY[i]]\n",
    "        tmp = sys.maxsize\n",
    "        allotcs = 0\n",
    "        for j in range(numberOfChargingStations):\n",
    "            Y = [CSx[j], CSy[j]]\n",
    "            dist = timeToTravel(X, Y)\n",
    "            if(dist<tmp):\n",
    "                tmp = dist\n",
    "                allotcs = j\n",
    "        wait = waitingTime(randomTime[i], tmp, occupancyTime[allotcs], allotcs)\n",
    "        Y = [CSx[allotcs], CSy[allotcs]]\n",
    "        vx = distanceBetweenAB(X,Y)\n",
    "        distancewise.append(vx)\n",
    "        waitingwise.append(wait)\n",
    "        sams.append(wait+tmp)\n",
    "        \n",
    "        \n",
    "    return sams\n",
    "        \n",
    "        \n"
   ]
  },
  {
   "cell_type": "code",
   "execution_count": 358,
   "metadata": {},
   "outputs": [],
   "source": [
    "\n",
    "for x in range(24):\n",
    "    \n",
    "    requests = vehicleDensity(x)\n",
    "    m = 'randomTime'+str(x)+'(seconds)'\n",
    "    n = 'randomX'+str(x)+'(meters)'\n",
    "    o = 'randomY'+str(x)+'(meters)'\n",
    "    randomTime = df[m].tolist()[:requests]\n",
    "    randomX = df[n].tolist()[:requests]\n",
    "    randomY = df[o].tolist()[:requests]\n",
    "    xx = solveRequest(requests)\n",
    "    # print(xx)\n",
    "    # print(\"fcuk\")\n",
    "    ans.append(xx)\n",
    "    aans.append(distancewise)\n",
    "    waitans.append(waitingwise)\n",
    "    # print(sams)\n",
    "    # print(len(sams))\n",
    "    # print(ans)\n",
    "    restart()\n",
    "    sams = []\n",
    "    distancewise = []\n",
    "    waitingwise = []\n",
    "    \n",
    "    \n"
   ]
  },
  {
   "cell_type": "code",
   "execution_count": 359,
   "metadata": {},
   "outputs": [],
   "source": [
    "# for x in range(24):\n",
    "    \n",
    "#     requests = vehicleDensity(x)\n",
    "#     m = 'randomTime'+str(x)+'(seconds)'\n",
    "#     n = 'randomX'+str(x)+'(meters)'\n",
    "#     o = 'randomY'+str(x)+'(meters)'\n",
    "#     randomTime = df[m].tolist()[:requests]\n",
    "#     randomX = df[n].tolist()[:requests]\n",
    "#     randomY = df[o].tolist()[:requests]\n",
    "#     xx = solveRequestd(requests)\n",
    "#     # print(xx)\n",
    "#     # print(\"fcuk\")\n",
    "#     aans.append(xx)\n",
    "#     # print(sams)\n",
    "#     # print(len(sams))\n",
    "#     # print(ans)\n",
    "#     restart()\n",
    "#     distancewise = []\n"
   ]
  },
  {
   "cell_type": "code",
   "execution_count": 360,
   "metadata": {},
   "outputs": [],
   "source": [
    "df69 = pd.DataFrame({'lastRow': ans})\n",
    "df69.to_csv('lastRow.csv', index=False)\n"
   ]
  },
  {
   "cell_type": "code",
   "execution_count": 361,
   "metadata": {},
   "outputs": [],
   "source": [
    "df70 = pd.DataFrame({'distRow': aans})\n",
    "df70.to_csv('distRow.csv', index=False)"
   ]
  },
  {
   "cell_type": "code",
   "execution_count": null,
   "metadata": {},
   "outputs": [],
   "source": [
    "df71 = pd.DataFrame({'waittimewise': waitans})\n",
    "df71.to_csv('waittimewise.csv', index=False)"
   ]
  }
 ],
 "metadata": {
  "kernelspec": {
   "display_name": "Python 3.10.4 64-bit",
   "language": "python",
   "name": "python3"
  },
  "language_info": {
   "codemirror_mode": {
    "name": "ipython",
    "version": 3
   },
   "file_extension": ".py",
   "mimetype": "text/x-python",
   "name": "python",
   "nbconvert_exporter": "python",
   "pygments_lexer": "ipython3",
   "version": "3.10.4"
  },
  "orig_nbformat": 4,
  "vscode": {
   "interpreter": {
    "hash": "1bac1f31f9f17b42c6ed85390b47cf6bd072f713dfc62feae2f5858eee546f57"
   }
  }
 },
 "nbformat": 4,
 "nbformat_minor": 2
}
