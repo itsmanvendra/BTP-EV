{
 "cells": [
  {
   "cell_type": "code",
   "execution_count": 62,
   "metadata": {},
   "outputs": [],
   "source": [
    "import math\n",
    "import random\n",
    "import sys\n",
    "from math import ceil, floor\n",
    "import numpy as np\n",
    "import pandas as pd\n",
    "\n",
    "swapTime = 600      #seconds per vehicle\n",
    "GridX = 10000       #meters\n",
    "GridY = 10000       #meters\n",
    "intervalOfChargingStations = 2000       #meters\n",
    "noOfRequests = 150      #per hour\n",
    "numberOfChargingStations = GridX*GridY//intervalOfChargingStations**2\n",
    "int_min_speed=20    #kmph\n",
    "int_max_speed=40    #kmph\n",
    "high_min_speed=60   #kmph\n",
    "high_max_speed=80   #kmph\n",
    "startTime = 0\n",
    "\n",
    "################################################################################################################\n",
    "\n",
    "ChargingStationCode = []\n",
    "CSx = []\n",
    "CSy = []\n",
    "occupancyTime=[]\n",
    "averageActulTime=[]\n",
    "noOfCars=[]\n",
    "\n",
    "randomTime=[]\n",
    "randomX=[]\n",
    "randomY=[]\n",
    "allocatedCS=[]\n",
    "arrivalTime=[]\n",
    "index1 = []"
   ]
  },
  {
   "cell_type": "code",
   "execution_count": 63,
   "metadata": {},
   "outputs": [],
   "source": [
    "\n",
    "def generateRequest(startTime,GridX,GridY,noOfRequests):\n",
    "    for i in range(noOfRequests):\n",
    "        randomTime.append(random.randint(startTime,3600+startTime))\n",
    "        randomX.append(random.randint(0,GridX-1000))\n",
    "        randomY.append(random.randint(0,GridY-1000))\n",
    "    \n",
    "    randomTime.sort()"
   ]
  },
  {
   "cell_type": "code",
   "execution_count": 64,
   "metadata": {},
   "outputs": [],
   "source": [
    "for i in range(165):\n",
    "    index1.append(i)"
   ]
  },
  {
   "cell_type": "code",
   "execution_count": 65,
   "metadata": {},
   "outputs": [],
   "source": [
    "df = pd.DataFrame({'index':index1})\n",
    "df.to_csv('randomData.csv',index=False)\n",
    "df = pd.read_csv('randomData.csv')"
   ]
  },
  {
   "cell_type": "code",
   "execution_count": 66,
   "metadata": {},
   "outputs": [],
   "source": [
    "def delta(n):\n",
    "    return n//10"
   ]
  },
  {
   "cell_type": "code",
   "execution_count": 67,
   "metadata": {},
   "outputs": [],
   "source": [
    "def vehicleDensity(time):\n",
    "    if time >= 0 and time < 6:\n",
    "        return noOfRequests - 2 * delta(noOfRequests)\n",
    "    elif time >= 6 and time < 8:\n",
    "        return noOfRequests - delta(noOfRequests)\n",
    "    elif time >= 8 and time < 11:\n",
    "        return noOfRequests + delta(noOfRequests)\n",
    "    elif time >=11 and time < 13:\n",
    "        return noOfRequests\n",
    "    elif time >=13 and time < 16:\n",
    "        return noOfRequests - delta(noOfRequests)\n",
    "    elif time >=16 and time < 18:\n",
    "        return noOfRequests\n",
    "    elif time >=18 and time < 21:\n",
    "        return noOfRequests + delta(noOfRequests)\n",
    "    else:\n",
    "        return noOfRequests - delta(noOfRequests)\n"
   ]
  },
  {
   "cell_type": "code",
   "execution_count": 68,
   "metadata": {},
   "outputs": [],
   "source": [
    "def restart():\n",
    "    global randomTime \n",
    "    randomTime=[]\n",
    "    global randomX\n",
    "    randomX=[]\n",
    "    global randomY\n",
    "    randomY=[]\n"
   ]
  },
  {
   "cell_type": "code",
   "execution_count": 69,
   "metadata": {},
   "outputs": [],
   "source": [
    "for x in range(24):\n",
    "    requests = 165    #per hour   later change it to vehicleDensity(x)\n",
    "    generateRequest(x*3600,GridX,GridY,requests)\n",
    "    # print(len(randomTime))\n",
    "    df.insert(3*x+1,'randomTime'+str(x)+'(seconds)',randomTime)\n",
    "    df.insert(3*x+2,'randomX'+str(x)+'(meters)',randomX)\n",
    "    df.insert(3*x+3,'randomY'+str(x)+'(meters)',randomY)\n",
    "    restart()"
   ]
  },
  {
   "cell_type": "code",
   "execution_count": 70,
   "metadata": {},
   "outputs": [],
   "source": [
    "df.to_csv('randomData.csv',index=False)"
   ]
  }
 ],
 "metadata": {
  "kernelspec": {
   "display_name": "Python 3.10.4 64-bit",
   "language": "python",
   "name": "python3"
  },
  "language_info": {
   "codemirror_mode": {
    "name": "ipython",
    "version": 3
   },
   "file_extension": ".py",
   "mimetype": "text/x-python",
   "name": "python",
   "nbconvert_exporter": "python",
   "pygments_lexer": "ipython3",
   "version": "3.10.4"
  },
  "orig_nbformat": 4,
  "vscode": {
   "interpreter": {
    "hash": "1bac1f31f9f17b42c6ed85390b47cf6bd072f713dfc62feae2f5858eee546f57"
   }
  }
 },
 "nbformat": 4,
 "nbformat_minor": 2
}
