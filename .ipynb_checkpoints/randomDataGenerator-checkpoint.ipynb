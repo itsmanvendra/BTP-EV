{
 "cells": [
  {
   "cell_type": "code",
   "execution_count": 1,
   "metadata": {},
   "outputs": [],
   "source": [
    "import math\n",
    "import random\n",
    "import sys\n",
    "from math import ceil, floor\n",
    "import numpy as np\n",
    "import pandas as pd\n",
    "\n",
    "swapTime = 600      #seconds per vehicle\n",
    "GridX = 10000       #meters\n",
    "GridY = 10000       #meters\n",
    "intervalOfChargingStations = 2000       #meters\n",
    "noOfRequests = 150      #per hour\n",
    "numberOfChargingStations = GridX*GridY//intervalOfChargingStations**2\n",
    "int_min_speed=20    #kmph\n",
    "int_max_speed=40    #kmph\n",
    "high_min_speed=60   #kmph\n",
    "high_max_speed=80   #kmph\n",
    "startTime = 0\n",
    "\n",
    "################################################################################################################\n",
    "\n",
    "ChargingStationCode = []\n",
    "CSx = []\n",
    "CSy = []\n",
    "occupancyTime=[]\n",
    "averageActulTime=[]\n",
    "noOfCars=[]\n",
    "soc = []\n",
    "batteryCapacity = [22, 22.5, 23, 26.5, 27, 29, 29.5, 30, 31.5,32] #// 22kwh to 32kwh\n",
    "energyConsumptionRate = [0.16, 0.165, 0.17, 0.18, 0.185, 0.19, 0.195, 0.2, 0.205, 0.21] #// 0.16 to 0.21\n",
    "batteryCapacityUser = []\n",
    "ecrUser = []\n",
    "destX = []\n",
    "destY = []\n",
    "randomTime=[]\n",
    "randomX=[]\n",
    "randomY=[]\n",
    "allocatedCS=[]\n",
    "arrivalTime=[]\n",
    "index1 = []"
   ]
  },
  {
   "cell_type": "code",
   "execution_count": 2,
   "metadata": {},
   "outputs": [],
   "source": [
    "\n",
    "def generateRequest(startTime,GridX,GridY,noOfRequests):\n",
    "    for i in range(noOfRequests):\n",
    "        randomTime.append(random.randint(startTime,3600+startTime))\n",
    "        randomX.append(random.randint(0,GridX-1000))\n",
    "        randomY.append(random.randint(0,GridY-1000))\n",
    "        soc.append(round((random.uniform(0.03,0.06)),3))\n",
    "        destX.append(random.randint(0,GridX))\n",
    "        destY.append(random.randint(0,GridY))\n",
    "        batteryCapacityUser.append(random.choice(batteryCapacity))\n",
    "        ecrUser.append(random.choice(energyConsumptionRate))\n",
    "    randomTime.sort()"
   ]
  },
  {
   "cell_type": "code",
   "execution_count": 3,
   "metadata": {},
   "outputs": [],
   "source": [
    "for i in range(165):\n",
    "    index1.append(i)"
   ]
  },
  {
   "cell_type": "code",
   "execution_count": 4,
   "metadata": {},
   "outputs": [],
   "source": [
    "df = pd.DataFrame({'index':index1})\n",
    "df.to_csv('randomData.csv',index=False)\n",
    "df = pd.read_csv('randomData.csv')"
   ]
  },
  {
   "cell_type": "code",
   "execution_count": 5,
   "metadata": {},
   "outputs": [],
   "source": [
    "def delta(n):\n",
    "    return n//10"
   ]
  },
  {
   "cell_type": "code",
   "execution_count": 6,
   "metadata": {},
   "outputs": [],
   "source": [
    "def vehicleDensity(time):\n",
    "    if time >= 0 and time < 6:\n",
    "        return noOfRequests - 2 * delta(noOfRequests)\n",
    "    elif time >= 6 and time < 8:\n",
    "        return noOfRequests - delta(noOfRequests)\n",
    "    elif time >= 8 and time < 11:\n",
    "        return noOfRequests + delta(noOfRequests)\n",
    "    elif time >=11 and time < 13:\n",
    "        return noOfRequests\n",
    "    elif time >=13 and time < 16:\n",
    "        return noOfRequests - delta(noOfRequests)\n",
    "    elif time >=16 and time < 18:\n",
    "        return noOfRequests\n",
    "    elif time >=18 and time < 21:\n",
    "        return noOfRequests + delta(noOfRequests)\n",
    "    else:\n",
    "        return noOfRequests - delta(noOfRequests)\n"
   ]
  },
  {
   "cell_type": "code",
   "execution_count": 7,
   "metadata": {},
   "outputs": [],
   "source": [
    "def restart():\n",
    "    global randomTime \n",
    "    randomTime=[]\n",
    "    global randomX\n",
    "    randomX=[]\n",
    "    global randomY\n",
    "    randomY=[]\n",
    "    global soc\n",
    "    soc = []\n",
    "    global destX\n",
    "    destX = []\n",
    "    global destY\n",
    "    destY = []\n",
    "    global batteryCapacityUser\n",
    "    batteryCapacityUser = []\n",
    "    global ecrUser\n",
    "    ecrUser = []\n"
   ]
  },
  {
   "cell_type": "code",
   "execution_count": 8,
   "metadata": {},
   "outputs": [],
   "source": [
    "# for x in range(24):\n",
    "#     requests = 165    #per hour   later change it to vehicleDensity(x)\n",
    "#     generateRequest(x*3600,GridX,GridY,requests)\n",
    "#     # print(len(randomTime))\n",
    "#     df.insert(8*x+1,'randomTime'+str(x)+'(seconds)',randomTime)\n",
    "#     df.insert(8*x+2,'randomX'+str(x)+'(meters)',randomX)\n",
    "#     df.insert(8*x+3,'randomY'+str(x)+'(meters)',randomY)\n",
    "#     df.insert(8*x+4,'soc'+str(x),soc)\n",
    "#     df.insert(8*x+5,'destX'+str(x)+'(meters)',destX)\n",
    "#     df.insert(8*x+6,'destY'+str(x)+'(meters)',destY)\n",
    "#     df.insert(8*x+7,'batteryCapacityUser'+str(x)+'(kwh)',batteryCapacityUser)\n",
    "#     df.insert(8*x+8,'ecrUser'+str(x)+'(kwh/km)',ecrUser)\n",
    "#     restart()\n",
    "# Create a list of dictionaries containing the data for each column to be added\n",
    "new_columns = []\n",
    "for x in range(24):\n",
    "    requests = 165    #per hour   later change it to vehicleDensity(x)\n",
    "    generateRequest(x*3600,GridX,GridY,requests)\n",
    "#     soc_list = [soc]*len(df.index)\n",
    "    data_dict = {\n",
    "        'randomTime'+str(x)+'(seconds)': randomTime,\n",
    "        'randomX'+str(x)+'(meters)': randomX,\n",
    "        'randomY'+str(x)+'(meters)': randomY,\n",
    "        'soc'+str(x): soc,\n",
    "        'destX'+str(x)+'(meters)': destX,\n",
    "        'destY'+str(x)+'(meters)': destY,\n",
    "        'batteryCapacityUser'+str(x)+'(kwh)': batteryCapacityUser,\n",
    "        'ecrUser'+str(x)+'(kwh/km)': ecrUser\n",
    "    }\n",
    "    new_columns.append(data_dict)\n",
    "    restart()\n",
    "# Concatenate the new columns with the original DataFrame\n",
    "    newframe = pd.concat([df] + [pd.DataFrame(data_dict, index=df.index) for data_dict in new_columns], axis=1)\n",
    "\n",
    "# Write the DataFrame to a CSV file\n",
    "    newframe.to_csv('newrandomdata.csv', index=False)\n"
   ]
  },
  {
   "cell_type": "code",
   "execution_count": null,
   "metadata": {},
   "outputs": [],
   "source": []
  }
 ],
 "metadata": {
  "kernelspec": {
   "display_name": "Python 3 (ipykernel)",
   "language": "python",
   "name": "python3"
  },
  "language_info": {
   "codemirror_mode": {
    "name": "ipython",
    "version": 3
   },
   "file_extension": ".py",
   "mimetype": "text/x-python",
   "name": "python",
   "nbconvert_exporter": "python",
   "pygments_lexer": "ipython3",
   "version": "3.11.2"
  },
  "vscode": {
   "interpreter": {
    "hash": "1bac1f31f9f17b42c6ed85390b47cf6bd072f713dfc62feae2f5858eee546f57"
   }
  }
 },
 "nbformat": 4,
 "nbformat_minor": 2
}
